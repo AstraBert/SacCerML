{
  "nbformat": 4,
  "nbformat_minor": 0,
  "metadata": {
    "colab": {
      "provenance": [],
      "authorship_tag": "ABX9TyOzTQG5XXPDuGt+BN6nQIDx",
      "include_colab_link": true
    },
    "kernelspec": {
      "name": "python3",
      "display_name": "Python 3"
    },
    "language_info": {
      "name": "python"
    }
  },
  "cells": [
    {
      "cell_type": "markdown",
      "metadata": {
        "id": "view-in-github",
        "colab_type": "text"
      },
      "source": [
        "<a href=\"https://colab.research.google.com/github/AstraBert/SacCerML/blob/main/scerevisiae_genecalling_ml.ipynb\" target=\"_parent\"><img src=\"https://colab.research.google.com/assets/colab-badge.svg\" alt=\"Open In Colab\"/></a>"
      ]
    },
    {
      "cell_type": "code",
      "source": [
        "import pandas as pd\n",
        "from sklearn.model_selection import train_test_split\n",
        "from sklearn.ensemble import RandomForestClassifier"
      ],
      "metadata": {
        "id": "5U9Z6d5fL65q"
      },
      "execution_count": null,
      "outputs": []
    },
    {
      "cell_type": "code",
      "source": [
        "pip install biopython==1.81"
      ],
      "metadata": {
        "colab": {
          "base_uri": "https://localhost:8080/"
        },
        "id": "k-Dl12G6MDF3",
        "outputId": "d0ea7286-d3eb-40bf-e691-3bdc1369b1e7"
      },
      "execution_count": null,
      "outputs": [
        {
          "output_type": "stream",
          "name": "stdout",
          "text": [
            "Collecting biopython==1.81\n",
            "  Downloading biopython-1.81-cp310-cp310-manylinux_2_17_x86_64.manylinux2014_x86_64.whl (3.1 MB)\n",
            "\u001b[2K     \u001b[90m━━━━━━━━━━━━━━━━━━━━━━━━━━━━━━━━━━━━━━━━\u001b[0m \u001b[32m3.1/3.1 MB\u001b[0m \u001b[31m27.7 MB/s\u001b[0m eta \u001b[36m0:00:00\u001b[0m\n",
            "\u001b[?25hRequirement already satisfied: numpy in /usr/local/lib/python3.10/dist-packages (from biopython==1.81) (1.23.5)\n",
            "Installing collected packages: biopython\n",
            "Successfully installed biopython-1.81\n"
          ]
        }
      ]
    },
    {
      "cell_type": "code",
      "source": [
        "from Bio.SeqUtils.ProtParam import ProteinAnalysis\n",
        "from Bio.SeqUtils.CheckSum import crc32\n",
        "from Bio.SeqUtils.CodonUsage import CodonAdaptationIndex\n",
        "from Bio.SeqUtils.CodonUsageIndices import SharpEcoliIndex\n",
        "from Bio.SeqUtils import six_frame_translations\n",
        "from Bio.Seq import Seq\n",
        "from Bio import SeqIO\n",
        "import gzip\n",
        "from math import floor\n"
      ],
      "metadata": {
        "colab": {
          "base_uri": "https://localhost:8080/"
        },
        "id": "J-QfbIE0MdRH",
        "outputId": "412f287f-1234-4e81-a331-f5b1aa28a969"
      },
      "execution_count": null,
      "outputs": [
        {
          "output_type": "stream",
          "name": "stderr",
          "text": [
            "/usr/local/lib/python3.10/dist-packages/Bio/SeqUtils/CodonUsageIndices.py:16: BiopythonDeprecationWarning: This module has been DEPRECATED. Please use the CodonAdaptationIndex class in Bio.SeqUtils instead. Note that this class has been updated to use modern Python, and may give slightly different results from the CodonAdaptationIndex class in Bio.SeqUtils.CodonUsage, as the code was changed to be consistent with the published paper by Sharp and Li. The code in the old CodonAdaptationIndex class in Bio.SeqUtils.CodonUsage was not changed.\n",
            "  warnings.warn(\n",
            "/usr/local/lib/python3.10/dist-packages/Bio/SeqUtils/CodonUsage.py:15: BiopythonDeprecationWarning: This module has been DEPRECATED. Please use the CodonAdaptationIndex class in Bio.SeqUtils instead. Note that this class has been updated to use modern Python, and may give slightly different results from the CodonAdaptationIndex class in Bio.SeqUtils.CodonUsage, as the code was changed to be consistent with the published paper by Sharp and Li. The code in the old CodonAdaptationIndex class in Bio.SeqUtils.CodonUsage was not changed.\n",
            "  warnings.warn(\n"
          ]
        }
      ]
    },
    {
      "cell_type": "code",
      "source": [
        "## CSV structure: GENE_NAME,CAI,CHECKSUM,HIDROPHOBICITY,ISOELECTRIC,AROMATIC,INSTABLE,MW,HELIX,TURN,SHEET,MOL_EXT_RED,MOL_EXT_OX\n",
        "def load_data(infile):\n",
        "    \"\"\"Load data from infile if it is in fasta format (after having unzipped it, if it is zipped)\"\"\"\n",
        "    if infile.endswith(\".gz\"):  # If file is gzipped, unzip it\n",
        "        y = gzip.open(infile, \"rt\", encoding=\"latin-1\")\n",
        "        # Read file as fasta if it is fasta\n",
        "        if infile.endswith(\".fasta.gz\") or infile.endswith(\".fna.gz\") or infile.endswith(\".fas.gz\") or infile.endswith(\".fa.gz\"):\n",
        "            records = SeqIO.parse(y, \"fasta\")\n",
        "            sequences = {}\n",
        "            for record in records:\n",
        "                sequences.update({str(record.id): str(record.seq)})\n",
        "            y.close()\n",
        "            return sequences\n",
        "        else:\n",
        "            y.close()\n",
        "            raise ValueError(\"File is the wrong format\")\n",
        "    # Read file directly as fasta if it is a not zipped fasta: handle also more uncommon extensions :-)\n",
        "    elif infile.endswith(\".fasta\") or infile.endswith(\".fna\") or infile.endswith(\".fas\") or infile.endswith(\".fa\"):\n",
        "        with open(infile, \"r\") as y:\n",
        "            records = SeqIO.parse(y, \"fasta\")\n",
        "            sequences = {}\n",
        "            for record in records:\n",
        "                sequences.update({str(record.id): str(record.seq)})\n",
        "            y.close()\n",
        "            return sequences\n",
        "    else:\n",
        "        raise ValueError(\"File is the wrong format\")"
      ],
      "metadata": {
        "id": "AkWGseg6MhF1"
      },
      "execution_count": null,
      "outputs": []
    },
    {
      "cell_type": "code",
      "source": [
        "def calculate_cai(dna,index=SharpEcoliIndex):\n",
        "    cai = CodonAdaptationIndex()\n",
        "    cai.set_cai_index(index)\n",
        "    if len(dna) % 3 == 0:\n",
        "        a = cai.cai_for_gene(dna)\n",
        "    else:\n",
        "        six_translated = six_frame_translations(dna)\n",
        "        n = six_translated.split(\"\\n\")\n",
        "        frames = {\"0;F\": n[5], \"1;F\": n[6], \"2;F\": n[7],\"0;R\": n[12], \"1;R\": n[11], \"2;R\": n[10]}\n",
        "        ind = 0\n",
        "        for i in list(frames.keys()):\n",
        "            k = frames[i].replace(\" \",\"\")\n",
        "            if \"M\" in k and \"*\" in k:\n",
        "                if i.split(\";\")[0]==\"F\" and k.index(\"M\") < k.index(\"*\"):\n",
        "                    if len(k) <= len(dna)/3:\n",
        "                        ind = int(i.split(\"\")[0])\n",
        "                        break\n",
        "                elif i.split(\";\")[0]==\"R\" and k.index(\"M\") > k.index(\"*\"):\n",
        "                    if len(k) <= len(dna)/3:\n",
        "                        ind = len(dna) - int(i.split(\"\")[0])\n",
        "                        break\n",
        "        if ind == 0:\n",
        "            cods = 3*floor(len(dna)/3)\n",
        "            dna = dna[:cods]\n",
        "            a = cai.cai_for_gene(dna)\n",
        "        elif 1 <= ind <= 2:\n",
        "            if len(dna[ind:])%3==0:\n",
        "                dna = dna[ind:]\n",
        "            else:\n",
        "                cods = 3*floor((len(dna)-ind)/3)\n",
        "                dna = dna[ind:cods+ind]\n",
        "                a = cai.cai_for_gene(dna)\n",
        "        else:\n",
        "            if len(dna[:ind])%3==0:\n",
        "                dna = dna[ind:]\n",
        "            else:\n",
        "                cods = 3*floor((len(dna)-ind)/3)\n",
        "                dna = dna[:cods]\n",
        "                a = cai.cai_for_gene(dna)\n",
        "    return a\n",
        "\n",
        "\n",
        "def checksum(dna):\n",
        "    return crc32(dna)\n",
        "\n",
        "\n",
        "def hidrophobicity(dna):\n",
        "    protein_sequence = str(Seq(dna).translate())\n",
        "    protein_sequence = protein_sequence.replace(\"*\",\"\")\n",
        "    hydrophobicity_score = ProteinAnalysis(protein_sequence).gravy()\n",
        "    return hydrophobicity_score\n",
        "\n",
        "def isoelectric_pt(dna):\n",
        "    protein_sequence = str(Seq(dna).translate())\n",
        "    protein_sequence = protein_sequence.replace(\"*\",\"\")\n",
        "    isoelectric = ProteinAnalysis(protein_sequence).isoelectric_point()\n",
        "    return isoelectric\n",
        "\n",
        "def aromatic(dna):\n",
        "    protein_sequence = str(Seq(dna).translate())\n",
        "    protein_sequence = protein_sequence.replace(\"*\",\"\")\n",
        "    arom = ProteinAnalysis(protein_sequence).aromaticity()\n",
        "    return arom\n",
        "\n",
        "\n",
        "def instable(dna):\n",
        "    protein_sequence = str(Seq(dna).translate())\n",
        "    protein_sequence = protein_sequence.replace(\"*\",\"\")\n",
        "    inst = ProteinAnalysis(protein_sequence).instability_index()\n",
        "    return inst\n",
        "\n",
        "def weight(dna):\n",
        "    protein_sequence = str(Seq(dna).translate())\n",
        "    protein_sequence = protein_sequence.replace(\"*\",\"\")\n",
        "    wgt = ProteinAnalysis(protein_sequence).molecular_weight()\n",
        "    return wgt\n",
        "\n",
        "def sec_struct(dna):\n",
        "    protein_sequence = str(Seq(dna).translate())\n",
        "    protein_sequence = protein_sequence.replace(\"*\",\"\")\n",
        "    second_struct = ProteinAnalysis(protein_sequence).secondary_structure_fraction()\n",
        "    return \",\".join([str(s) for s in second_struct])\n",
        "\n",
        "def mol_ext(dna):\n",
        "    protein_sequence = str(Seq(dna).translate())\n",
        "    protein_sequence = protein_sequence.replace(\"*\",\"\")\n",
        "    molar_ext = ProteinAnalysis(protein_sequence).molar_extinction_coefficient()\n",
        "    return \",\".join([str(s) for s in molar_ext])\n"
      ],
      "metadata": {
        "id": "DnxoWuKPMlk9"
      },
      "execution_count": null,
      "outputs": []
    },
    {
      "cell_type": "code",
      "source": [
        "def process_dna(fasta_file):\n",
        "    fas = load_data(fasta_file)\n",
        "    seqs = [seq for seq in list(fas.values())]\n",
        "    heads = [seq for seq in list(fas.keys())]\n",
        "    data = []\n",
        "    for seq in seqs:\n",
        "        cai = calculate_cai(seq)\n",
        "        cksm = checksum(seq)\n",
        "        hydr = hidrophobicity(seq)\n",
        "        isl = isoelectric_pt(seq)\n",
        "        arm = aromatic(seq)\n",
        "        inst = instable(seq)\n",
        "        mw = weight(seq)\n",
        "        se_st = sec_struct(seq).split(\",\")\n",
        "        se_st1 = se_st[0]\n",
        "        se_st2 = se_st[1]\n",
        "        se_st3 = se_st[2]\n",
        "        me = mol_ext(seq).split(\",\")\n",
        "        me1 = me[0]\n",
        "        me2 = me[1]\n",
        "        n = pd.DataFrame({\"CAI\": [cai], \"CHECKSUM\": [cksm], \"HIDROPHOBICITY\": [hydr], \"ISOELECTRIC\": [isl],\"AROMATIC\": [arm],\"INSTABLE\": [inst], \"MW\": [mw], \"HELIX\": [se_st1], \"TURN\": [se_st2], \"SHEET\": [se_st3],\"MOL_EXT_RED\": [me1], \"MOL_EXT_OX\": [me2]})\n",
        "        data.append(n)\n",
        "    return data, heads\n"
      ],
      "metadata": {
        "id": "njo6hsOyMsYe"
      },
      "execution_count": null,
      "outputs": []
    },
    {
      "cell_type": "code",
      "source": [
        "from google.colab import files\n",
        "\n",
        "csv = files.upload()"
      ],
      "metadata": {
        "colab": {
          "base_uri": "https://localhost:8080/",
          "height": 108
        },
        "id": "BYk4aBS7M0Yo",
        "outputId": "a457defe-0886-4e0c-82f7-dd668f63c81f"
      },
      "execution_count": null,
      "outputs": [
        {
          "output_type": "display_data",
          "data": {
            "text/plain": [
              "<IPython.core.display.HTML object>"
            ],
            "text/html": [
              "\n",
              "     <input type=\"file\" id=\"files-8a768c7b-6024-4edb-b8e5-b97b7ecefa6f\" name=\"files[]\" multiple disabled\n",
              "        style=\"border:none\" />\n",
              "     <output id=\"result-8a768c7b-6024-4edb-b8e5-b97b7ecefa6f\">\n",
              "      Upload widget is only available when the cell has been executed in the\n",
              "      current browser session. Please rerun this cell to enable.\n",
              "      </output>\n",
              "      <script>// Copyright 2017 Google LLC\n",
              "//\n",
              "// Licensed under the Apache License, Version 2.0 (the \"License\");\n",
              "// you may not use this file except in compliance with the License.\n",
              "// You may obtain a copy of the License at\n",
              "//\n",
              "//      http://www.apache.org/licenses/LICENSE-2.0\n",
              "//\n",
              "// Unless required by applicable law or agreed to in writing, software\n",
              "// distributed under the License is distributed on an \"AS IS\" BASIS,\n",
              "// WITHOUT WARRANTIES OR CONDITIONS OF ANY KIND, either express or implied.\n",
              "// See the License for the specific language governing permissions and\n",
              "// limitations under the License.\n",
              "\n",
              "/**\n",
              " * @fileoverview Helpers for google.colab Python module.\n",
              " */\n",
              "(function(scope) {\n",
              "function span(text, styleAttributes = {}) {\n",
              "  const element = document.createElement('span');\n",
              "  element.textContent = text;\n",
              "  for (const key of Object.keys(styleAttributes)) {\n",
              "    element.style[key] = styleAttributes[key];\n",
              "  }\n",
              "  return element;\n",
              "}\n",
              "\n",
              "// Max number of bytes which will be uploaded at a time.\n",
              "const MAX_PAYLOAD_SIZE = 100 * 1024;\n",
              "\n",
              "function _uploadFiles(inputId, outputId) {\n",
              "  const steps = uploadFilesStep(inputId, outputId);\n",
              "  const outputElement = document.getElementById(outputId);\n",
              "  // Cache steps on the outputElement to make it available for the next call\n",
              "  // to uploadFilesContinue from Python.\n",
              "  outputElement.steps = steps;\n",
              "\n",
              "  return _uploadFilesContinue(outputId);\n",
              "}\n",
              "\n",
              "// This is roughly an async generator (not supported in the browser yet),\n",
              "// where there are multiple asynchronous steps and the Python side is going\n",
              "// to poll for completion of each step.\n",
              "// This uses a Promise to block the python side on completion of each step,\n",
              "// then passes the result of the previous step as the input to the next step.\n",
              "function _uploadFilesContinue(outputId) {\n",
              "  const outputElement = document.getElementById(outputId);\n",
              "  const steps = outputElement.steps;\n",
              "\n",
              "  const next = steps.next(outputElement.lastPromiseValue);\n",
              "  return Promise.resolve(next.value.promise).then((value) => {\n",
              "    // Cache the last promise value to make it available to the next\n",
              "    // step of the generator.\n",
              "    outputElement.lastPromiseValue = value;\n",
              "    return next.value.response;\n",
              "  });\n",
              "}\n",
              "\n",
              "/**\n",
              " * Generator function which is called between each async step of the upload\n",
              " * process.\n",
              " * @param {string} inputId Element ID of the input file picker element.\n",
              " * @param {string} outputId Element ID of the output display.\n",
              " * @return {!Iterable<!Object>} Iterable of next steps.\n",
              " */\n",
              "function* uploadFilesStep(inputId, outputId) {\n",
              "  const inputElement = document.getElementById(inputId);\n",
              "  inputElement.disabled = false;\n",
              "\n",
              "  const outputElement = document.getElementById(outputId);\n",
              "  outputElement.innerHTML = '';\n",
              "\n",
              "  const pickedPromise = new Promise((resolve) => {\n",
              "    inputElement.addEventListener('change', (e) => {\n",
              "      resolve(e.target.files);\n",
              "    });\n",
              "  });\n",
              "\n",
              "  const cancel = document.createElement('button');\n",
              "  inputElement.parentElement.appendChild(cancel);\n",
              "  cancel.textContent = 'Cancel upload';\n",
              "  const cancelPromise = new Promise((resolve) => {\n",
              "    cancel.onclick = () => {\n",
              "      resolve(null);\n",
              "    };\n",
              "  });\n",
              "\n",
              "  // Wait for the user to pick the files.\n",
              "  const files = yield {\n",
              "    promise: Promise.race([pickedPromise, cancelPromise]),\n",
              "    response: {\n",
              "      action: 'starting',\n",
              "    }\n",
              "  };\n",
              "\n",
              "  cancel.remove();\n",
              "\n",
              "  // Disable the input element since further picks are not allowed.\n",
              "  inputElement.disabled = true;\n",
              "\n",
              "  if (!files) {\n",
              "    return {\n",
              "      response: {\n",
              "        action: 'complete',\n",
              "      }\n",
              "    };\n",
              "  }\n",
              "\n",
              "  for (const file of files) {\n",
              "    const li = document.createElement('li');\n",
              "    li.append(span(file.name, {fontWeight: 'bold'}));\n",
              "    li.append(span(\n",
              "        `(${file.type || 'n/a'}) - ${file.size} bytes, ` +\n",
              "        `last modified: ${\n",
              "            file.lastModifiedDate ? file.lastModifiedDate.toLocaleDateString() :\n",
              "                                    'n/a'} - `));\n",
              "    const percent = span('0% done');\n",
              "    li.appendChild(percent);\n",
              "\n",
              "    outputElement.appendChild(li);\n",
              "\n",
              "    const fileDataPromise = new Promise((resolve) => {\n",
              "      const reader = new FileReader();\n",
              "      reader.onload = (e) => {\n",
              "        resolve(e.target.result);\n",
              "      };\n",
              "      reader.readAsArrayBuffer(file);\n",
              "    });\n",
              "    // Wait for the data to be ready.\n",
              "    let fileData = yield {\n",
              "      promise: fileDataPromise,\n",
              "      response: {\n",
              "        action: 'continue',\n",
              "      }\n",
              "    };\n",
              "\n",
              "    // Use a chunked sending to avoid message size limits. See b/62115660.\n",
              "    let position = 0;\n",
              "    do {\n",
              "      const length = Math.min(fileData.byteLength - position, MAX_PAYLOAD_SIZE);\n",
              "      const chunk = new Uint8Array(fileData, position, length);\n",
              "      position += length;\n",
              "\n",
              "      const base64 = btoa(String.fromCharCode.apply(null, chunk));\n",
              "      yield {\n",
              "        response: {\n",
              "          action: 'append',\n",
              "          file: file.name,\n",
              "          data: base64,\n",
              "        },\n",
              "      };\n",
              "\n",
              "      let percentDone = fileData.byteLength === 0 ?\n",
              "          100 :\n",
              "          Math.round((position / fileData.byteLength) * 100);\n",
              "      percent.textContent = `${percentDone}% done`;\n",
              "\n",
              "    } while (position < fileData.byteLength);\n",
              "  }\n",
              "\n",
              "  // All done.\n",
              "  yield {\n",
              "    response: {\n",
              "      action: 'complete',\n",
              "    }\n",
              "  };\n",
              "}\n",
              "\n",
              "scope.google = scope.google || {};\n",
              "scope.google.colab = scope.google.colab || {};\n",
              "scope.google.colab._files = {\n",
              "  _uploadFiles,\n",
              "  _uploadFilesContinue,\n",
              "};\n",
              "})(self);\n",
              "</script> "
            ]
          },
          "metadata": {}
        },
        {
          "output_type": "stream",
          "name": "stdout",
          "text": [
            "Saving scerevisiae.csv to scerevisiae.csv\n",
            "Saving test.fasta to test.fasta\n"
          ]
        }
      ]
    },
    {
      "cell_type": "code",
      "source": [
        "print(\"Loading data...\")\n",
        "# Load the data from the CSV file\n",
        "data = pd.read_csv('scerevisiae.csv')\n",
        "print(\"Loaded data\")"
      ],
      "metadata": {
        "colab": {
          "base_uri": "https://localhost:8080/"
        },
        "id": "H-qTw-HPNXU7",
        "outputId": "20ecd2b6-6e32-4ee0-85e3-ba80cddecfc4"
      },
      "execution_count": null,
      "outputs": [
        {
          "output_type": "stream",
          "name": "stdout",
          "text": [
            "Loading data...\n",
            "Loaded data\n"
          ]
        }
      ]
    },
    {
      "cell_type": "code",
      "source": [
        "print(\"Generating training and test data...\")\n",
        "# Features (replace with the actual feature columns in your CSV)\n",
        "X = data.iloc[:, 1:]\n",
        "\n",
        "# Labels (replace with the actual label column in your CSV)\n",
        "y = data['GENE_NAME']\n",
        "\n",
        "# Split the data into training and testing sets\n",
        "X_train, X_test, y_train, y_test = train_test_split(X, y, test_size=0.2, random_state=42)\n",
        "print(\"Generated training and test data\")"
      ],
      "metadata": {
        "colab": {
          "base_uri": "https://localhost:8080/"
        },
        "id": "sTahl4Z5NYil",
        "outputId": "929d2d66-f570-4b2b-e153-0ff07edc6bc6"
      },
      "execution_count": null,
      "outputs": [
        {
          "output_type": "stream",
          "name": "stdout",
          "text": [
            "Generating training and test data...\n",
            "Generated training and test data\n"
          ]
        }
      ]
    },
    {
      "cell_type": "code",
      "source": [
        "print(\"Building and training the model...\")\n",
        "# Create and train the Decision Tree classifier (use the same model you trained before)\n",
        "model = RandomForestClassifier(n_estimators=25, n_jobs=-1,random_state=42)"
      ],
      "metadata": {
        "colab": {
          "base_uri": "https://localhost:8080/"
        },
        "id": "TcjqNaLkNdp3",
        "outputId": "d9836eb7-fcff-42cd-8b52-cb676c1b6db5"
      },
      "execution_count": null,
      "outputs": [
        {
          "output_type": "stream",
          "name": "stdout",
          "text": [
            "Building and training the model...\n"
          ]
        }
      ]
    },
    {
      "cell_type": "code",
      "source": [
        "model = model.fit(X, y)  # Uncomment this line if clf needs training\n",
        "print(\"Built and trained the model... Now predicting\")"
      ],
      "metadata": {
        "colab": {
          "base_uri": "https://localhost:8080/"
        },
        "id": "7_gCRZPGNix-",
        "outputId": "67c8a6b3-df52-471e-a6a8-a349869b5b15"
      },
      "execution_count": null,
      "outputs": [
        {
          "output_type": "stream",
          "name": "stdout",
          "text": [
            "Built and trained the model... Now predicting\n"
          ]
        }
      ]
    },
    {
      "cell_type": "code",
      "source": [
        "from sklearn.metrics import accuracy_score\n",
        "\n",
        "# Make predictions on the test set\n",
        "y_pred = model.predict(X_test)\n",
        "\n",
        "# Evaluate the accuracy of the model\n",
        "accuracy = accuracy_score(y_test, y_pred)\n",
        "print(f\"Accuracy: {accuracy}\")"
      ],
      "metadata": {
        "colab": {
          "base_uri": "https://localhost:8080/"
        },
        "id": "H9K-n9k8TkHZ",
        "outputId": "1c396c34-7fa3-4b11-e75b-3480d357804d"
      },
      "execution_count": null,
      "outputs": [
        {
          "output_type": "stream",
          "name": "stdout",
          "text": [
            "Accuracy: 0.9925595238095238\n"
          ]
        }
      ]
    },
    {
      "cell_type": "code",
      "source": [
        "def predict_genes(infile, model=model):\n",
        "    X, headers = process_dna(infile)\n",
        "    predictions = []\n",
        "    for x in X:\n",
        "      p = model.predict(x)\n",
        "      predictions.append(p)\n",
        "    for i in range(len(predictions)):\n",
        "        print(f\"{headers[i]} is predicted as {predictions[i][0]}\")"
      ],
      "metadata": {
        "id": "vxsNLepSOaLG"
      },
      "execution_count": null,
      "outputs": []
    },
    {
      "cell_type": "code",
      "source": [
        "from Bio import BiopythonWarning\n",
        "import warnings\n",
        "with warnings.catch_warnings():\n",
        "    warnings.simplefilter('ignore', BiopythonWarning)\n",
        "    inf = \"test.fasta\"\n",
        "    predict_genes(inf)"
      ],
      "metadata": {
        "colab": {
          "base_uri": "https://localhost:8080/"
        },
        "id": "87wJ8HJoOlt2",
        "outputId": "1783eb79-2f2e-43cc-eb78-f0e30c90c0bd"
      },
      "execution_count": null,
      "outputs": [
        {
          "output_type": "stream",
          "name": "stdout",
          "text": [
            "YGR292w is predicted as YDL231C\n"
          ]
        }
      ]
    }
  ]
}
